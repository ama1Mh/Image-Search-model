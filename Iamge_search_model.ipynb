{
  "nbformat": 4,
  "nbformat_minor": 0,
  "metadata": {
    "colab": {
      "provenance": []
    },
    "kernelspec": {
      "name": "python3",
      "display_name": "Python 3"
    },
    "language_info": {
      "name": "python"
    }
  },
  "cells": [
    {
      "cell_type": "code",
      "source": [
        "import cv2\n",
        "import numpy as np\n",
        "from sklearn.metrics.pairwise import cosine_similarity\n",
        "from google.colab.patches import cv2_imshow\n",
        "import os"
      ],
      "metadata": {
        "id": "moCrS3WlMk_4"
      },
      "execution_count": 1,
      "outputs": []
    },
    {
      "cell_type": "code",
      "source": [
        "def extract_features(image_path):\n",
        "    # Load the image\n",
        "    image = cv2.imread(image_path)\n",
        "    # Convert the image to HSV color space\n",
        "    hsv_image = cv2.cvtColor(image, cv2.COLOR_BGR2HSV)\n",
        "    # Calculate the color histogram\n",
        "    hist = cv2.calcHist([hsv_image], [0, 1, 2], None, [8, 8, 8], [0, 256, 0, 256, 0, 256])\n",
        "    # Normalize the histogram\n",
        "    features = cv2.normalize(hist, hist).flatten()\n",
        "    return features"
      ],
      "metadata": {
        "id": "khxi364MMoNe"
      },
      "execution_count": 2,
      "outputs": []
    },
    {
      "cell_type": "code",
      "source": [
        "def calculate_similarity(query_features, dataset_features):\n",
        "    # Calculate the cosine similarity between the query image features and dataset image features\n",
        "    similarities = cosine_similarity([query_features], dataset_features)[0]\n",
        "    return similarities"
      ],
      "metadata": {
        "id": "HZkCJVgEMqo6"
      },
      "execution_count": 3,
      "outputs": []
    },
    {
      "cell_type": "code",
      "execution_count": 4,
      "metadata": {
        "colab": {
          "base_uri": "https://localhost:8080/",
          "height": 157
        },
        "id": "ndKJWwsLMhrJ",
        "outputId": "4f5544d7-0502-4e69-9e39-27d4e00b1c28"
      },
      "outputs": [
        {
          "output_type": "display_data",
          "data": {
            "text/plain": [
              "<PIL.Image.Image image mode=RGB size=28x28>"
            ],
            "image/png": "[encoded data removed]"
          },
          "metadata": {}
        },
        {
          "output_type": "display_data",
          "data": {
            "text/plain": [
              "<PIL.Image.Image image mode=RGB size=28x28>"
            ],
            "image/png": "[encoded data removed]"
          },
          "metadata": {}
        },
        {
          "output_type": "display_data",
          "data": {
            "text/plain": [
              "<PIL.Image.Image image mode=RGB size=28x28>"
            ],
            "image/png": "[encoded data removed]"
          },
          "metadata": {}
        },
        {
          "output_type": "display_data",
          "data": {
            "text/plain": [
              "<PIL.Image.Image image mode=RGB size=28x28>"
            ],
            "image/png": "[encoded data removed]"
          },
          "metadata": {}
        },
        {
          "output_type": "display_data",
          "data": {
            "text/plain": [
              "<PIL.Image.Image image mode=RGB size=28x28>"
            ],
            "image/png": "[encoded data removed]"
          },
          "metadata": {}
        }
      ],
      "source": [
        "def main():\n",
        " # Path to the dataset directory\n",
        "    dataset_path = \"/content/image_dataset\"\n",
        "    # List to store image paths and features\n",
        "    image_paths = []\n",
        "    dataset_features = []\n",
        "\n",
        "    # Loop through the dataset directory to extract features from each image\n",
        "    for root, dirs, files in os.walk(dataset_path):\n",
        "        for file in files:\n",
        "            image_path = os.path.join(root, file)\n",
        "            image_paths.append(image_path)\n",
        "            # Extract features from the image\n",
        "            features = extract_features(image_path)\n",
        "            dataset_features.append(features)\n",
        "\n",
        "    # Path to the query image\n",
        "    query_image_path = \"/content/image_dataset/circle_red488.png\"\n",
        "    # Extract features from the query image\n",
        "    query_features = extract_features(query_image_path)\n",
        "\n",
        "    # Calculate similarity between query image and dataset images\n",
        "    similarities = calculate_similarity(query_features, dataset_features)\n",
        "\n",
        "    # Display images that are both similar in color and shape to the query image\n",
        "\n",
        "    for i, similarity in enumerate(similarities):\n",
        "        if similarity > 0.85:\n",
        "            img = cv2.imread(image_paths[i])\n",
        "            contours, _ = cv2.findContours(cv2.cvtColor(img, cv2.COLOR_BGR2GRAY), cv2.RETR_EXTERNAL, cv2.CHAIN_APPROX_SIMPLE)\n",
        "            is_similar_shape = False\n",
        "            for contour in contours:\n",
        "                perimeter = cv2.arcLength(contour, True)\n",
        "                area = cv2.contourArea(contour)\n",
        "                circularity = 4 * np.pi * area / (perimeter * perimeter)\n",
        "                if circularity > 0.7:\n",
        "                    is_similar_shape = True\n",
        "                    break\n",
        "            if is_similar_shape:\n",
        "                cv2_imshow(img)\n",
        "\n",
        "if __name__ == \"__main__\":\n",
        "    main()\n"
      ]
    }
  ]
}